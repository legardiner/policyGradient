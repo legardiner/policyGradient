{
 "cells": [
  {
   "cell_type": "code",
   "execution_count": 2,
   "metadata": {},
   "outputs": [],
   "source": [
    "import gym\n",
    "import gym.spaces\n",
    "import numpy as np\n",
    "import argparse\n",
    "import tensorflow as tf\n",
    "import os\n",
    "import matplotlib.pyplot as plt\n",
    "%matplotlib inline"
   ]
  },
  {
   "cell_type": "markdown",
   "metadata": {},
   "source": [
    "# hit 'em with those hyperparams"
   ]
  },
  {
   "cell_type": "code",
   "execution_count": 13,
   "metadata": {},
   "outputs": [],
   "source": [
    "num_episodes = 1000\n",
    "max_time = 200\n",
    "learning_rate = 0.01\n",
    "discount_rate = 0.99\n",
    "epochs = 500\n",
    "state_size = 4\n",
    "action_size = 2\n",
    "hidden_state_size = 16"
   ]
  },
  {
   "cell_type": "markdown",
   "metadata": {},
   "source": [
    "# calculate rewards at each state if it were the start"
   ]
  },
  {
   "cell_type": "code",
   "execution_count": 4,
   "metadata": {},
   "outputs": [],
   "source": [
    "def expected_rewards(episode_rewards, gamma, normalize=True):\n",
    "    discounted_episode_rewards = np.zeros_like(episode_rewards)\n",
    "    cumulative = 0.0\n",
    "    for i in reversed(range(len(episode_rewards))):\n",
    "        cumulative = cumulative * gamma + episode_rewards[i]\n",
    "        discounted_episode_rewards[i] = cumulative\n",
    "    \n",
    "    if normalize:\n",
    "        mean = np.mean(discounted_episode_rewards)\n",
    "        std = np.std(discounted_episode_rewards)\n",
    "        discounted_episode_rewards = (discounted_episode_rewards - mean) / (std)\n",
    "    \n",
    "    return discounted_episode_rewards.tolist()"
   ]
  },
  {
   "cell_type": "markdown",
   "metadata": {},
   "source": [
    "# handle image input"
   ]
  },
  {
   "cell_type": "code",
   "execution_count": 5,
   "metadata": {},
   "outputs": [],
   "source": [
    "def preprocess(image):\n",
    "  #prepro 210x160x3 uint8 frame into 6400 (80x80) 2D float array\n",
    "  image = image[35:195] # crop\n",
    "  image = image[::2,::2,0] # downsample by factor of 2\n",
    "  image[image == 144] = 0 # erase background (background type 1)\n",
    "  image[image == 109] = 0 # erase background (background type 2)\n",
    "  image[image != 0] = 1 # everything else (paddles, ball) just set to 1\n",
    "  return np.reshape(image.astype(np.float).ravel(), [80,80])"
   ]
  },
  {
   "cell_type": "markdown",
   "metadata": {},
   "source": [
    "# design network"
   ]
  },
  {
   "cell_type": "code",
   "execution_count": 6,
   "metadata": {},
   "outputs": [],
   "source": [
    "class PolicyGradient():\n",
    "    def __init__(self, learning_rate=0.001, state_size=6400, action_size=2, hidden_state_size=16, name=\"PolicyGradient\"):\n",
    "        with tf.name_scope(name):\n",
    "            self.inputs_ = tf.placeholder(tf.float32, [None, state_size], name=\"inputs\")\n",
    "            self.actions_ = tf.placeholder(tf.int32, [None, action_size], name=\"actions\")\n",
    "            self.expected_episode_rewards_ = tf.placeholder(tf.float32, [None,], name=\"expected_episode_rewards\")\n",
    "            self.fc1 = tf.contrib.layers.fully_connected(self.inputs_, hidden_state_size, weights_initializer=tf.contrib.layers.xavier_initializer())\n",
    "            self.fc2 = tf.contrib.layers.fully_connected(self.fc1, action_size, weights_initializer=tf.contrib.layers.xavier_initializer())\n",
    "            self.fc3 = tf.contrib.layers.fully_connected(self.fc2, action_size,weights_initializer=tf.contrib.layers.xavier_initializer(), activation_fn=None)\n",
    "        with tf.name_scope(\"softmax\"):\n",
    "            self.softmax = tf.nn.softmax(self.fc3)\n",
    "        with tf.name_scope(\"loss\"):\n",
    "            self.cross_entropy = tf.nn.softmax_cross_entropy_with_logits_v2(labels = self.actions_, logits = self.fc3)\n",
    "            self.loss = tf.reduce_mean(self.cross_entropy * self.expected_episode_rewards_)\n",
    "        with tf.name_scope(\"train\"):\n",
    "            self.train = tf.train.AdamOptimizer(learning_rate).minimize(self.loss)"
   ]
  },
  {
   "cell_type": "markdown",
   "metadata": {},
   "source": [
    "# play"
   ]
  },
  {
   "cell_type": "code",
   "execution_count": 7,
   "metadata": {},
   "outputs": [],
   "source": [
    "# Load game\n",
    "env = gym.make(\"Pong-v0\")\n",
    "# Initialize the game\n",
    "state = env.reset()"
   ]
  },
  {
   "cell_type": "code",
   "execution_count": 8,
   "metadata": {},
   "outputs": [],
   "source": [
    "tf.reset_default_graph()\n",
    "network = PolicyGradient(name='network', learning_rate=learning_rate)"
   ]
  },
  {
   "cell_type": "code",
   "execution_count": null,
   "metadata": {},
   "outputs": [],
   "source": [
    "# saver = tf.train.Saver()\n",
    "avg_epoch_rewards = []\n",
    "with tf.Session() as sess:\n",
    "    sess.run(tf.global_variables_initializer())\n",
    "    \n",
    "    for epoch in range(epochs):\n",
    "        epoch_states, epoch_actions, epoch_rewards = [],[],[]\n",
    "        total_episode_rewards = []\n",
    "        for episode in range(num_episodes):\n",
    "            # Initialize episode states, actions, and rewards\n",
    "            episode_states, episode_actions, episode_rewards = [],[],[]\n",
    "            # Initialize the game for the episode\n",
    "            state = env.reset()\n",
    "            \n",
    "            while True:\n",
    "                state = preprocess(state).reshape(1, 6400)\n",
    "                feed = {network.inputs_: state}\n",
    "                action_dist = sess.run(network.softmax, feed_dict=feed)\n",
    "                \n",
    "                # Add 2 to either 0 or 1 to make the options 2 or 3 (right or left)\n",
    "                action = np.random.choice(range(action_dist.shape[1]), p=action_dist.flatten()) + 2\n",
    "                next_state, reward, done, _ = env.step(action)\n",
    "                \n",
    "                # Create one hot encoding for action\n",
    "                one_hot_action_ = np.zeros(action_size)\n",
    "                one_hot_action_[action - 2] = 1\n",
    "\n",
    "\n",
    "                # Store the states, reward, and action\n",
    "                episode_states.append(state)\n",
    "                episode_rewards.append(reward)\n",
    "                episode_actions.append(one_hot_action_)\n",
    "            \n",
    "                \n",
    "                state = next_state\n",
    "                \n",
    "                if done:\n",
    "                    # Calculate the cummulative reward\n",
    "                    expected_episode_rewards = expected_rewards(episode_rewards, discount_rate)\n",
    "                    \n",
    "                    total_episode_reward = sum(episode_rewards)\n",
    "                    total_episode_rewards.append(total_episode_reward)\n",
    "                    \n",
    "                    # Epoch updates\n",
    "                    epoch_states.append(np.vstack(episode_states))\n",
    "                    epoch_actions.append(np.vstack(episode_actions))\n",
    "                    epoch_rewards += expected_episode_rewards\n",
    "                    \n",
    "                    \n",
    "                    break\n",
    "                    \n",
    "        loss_, _ = sess.run([network.loss, network.train], feed_dict={network.inputs_: np.vstack(epoch_states),\n",
    "                                                                 network.actions_: np.vstack(epoch_actions),\n",
    "                                                                 network.expected_episode_rewards_: epoch_rewards\n",
    "                                                                })\n",
    "        avg_epoch_reward = np.mean(total_episode_rewards)\n",
    "        avg_epoch_rewards.append(avg_epoch_reward)\n",
    "        print(\"Epoch: {0}\\tAvg Reward: {1}\".format(epoch, avg_epoch_reward))"
   ]
  },
  {
   "cell_type": "code",
   "execution_count": 11,
   "metadata": {},
   "outputs": [
    {
     "data": {
      "text/plain": [
       "array([[0., 0., 0., ..., 0., 0., 0.]])"
      ]
     },
     "execution_count": 11,
     "metadata": {},
     "output_type": "execute_result"
    }
   ],
   "source": [
    "state.reshape(1, 6400)"
   ]
  },
  {
   "cell_type": "code",
   "execution_count": 14,
   "metadata": {},
   "outputs": [
    {
     "data": {
      "text/plain": [
       "True"
      ]
     },
     "execution_count": 14,
     "metadata": {},
     "output_type": "execute_result"
    }
   ],
   "source": [
    "tf.test.is_gpu_available()"
   ]
  },
  {
   "cell_type": "code",
   "execution_count": null,
   "metadata": {},
   "outputs": [],
   "source": []
  },
  {
   "cell_type": "code",
   "execution_count": null,
   "metadata": {},
   "outputs": [],
   "source": [
    "blah"
   ]
  },
  {
   "cell_type": "code",
   "execution_count": null,
   "metadata": {},
   "outputs": [],
   "source": []
  }
 ],
 "metadata": {
  "kernelspec": {
   "display_name": "Python 3",
   "language": "python",
   "name": "python3"
  },
  "language_info": {
   "codemirror_mode": {
    "name": "ipython",
    "version": 3
   },
   "file_extension": ".py",
   "mimetype": "text/x-python",
   "name": "python",
   "nbconvert_exporter": "python",
   "pygments_lexer": "ipython3",
   "version": "3.6.6"
  }
 },
 "nbformat": 4,
 "nbformat_minor": 2
}
