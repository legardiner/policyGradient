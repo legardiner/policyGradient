{
 "cells": [
  {
   "cell_type": "code",
   "execution_count": 1,
   "metadata": {},
   "outputs": [
    {
     "name": "stderr",
     "output_type": "stream",
     "text": [
      "/Users/laurenelisegardiner/anaconda/lib/python3.6/site-packages/h5py/__init__.py:34: FutureWarning: Conversion of the second argument of issubdtype from `float` to `np.floating` is deprecated. In future, it will be treated as `np.float64 == np.dtype(float).type`.\n",
      "  from ._conv import register_converters as _register_converters\n"
     ]
    }
   ],
   "source": [
    "import gym\n",
    "import gym.spaces\n",
    "import numpy as np\n",
    "import argparse\n",
    "import tensorflow as tf\n",
    "import matplotlib.pyplot as plt\n",
    "%matplotlib inline"
   ]
  },
  {
   "cell_type": "markdown",
   "metadata": {},
   "source": [
    "# hit 'em with those hyperparams"
   ]
  },
  {
   "cell_type": "code",
   "execution_count": 14,
   "metadata": {},
   "outputs": [],
   "source": [
    "num_episodes = 1000\n",
    "max_time = 200\n",
    "learning_rate = 0.01\n",
    "discount_rate = 0.95\n",
    "epochs = 100\n",
    "state_size = 4\n",
    "action_size = 2\n",
    "hidden_state_size = 16"
   ]
  },
  {
   "cell_type": "markdown",
   "metadata": {},
   "source": [
    "# calculate rewards at each state if it were the start"
   ]
  },
  {
   "cell_type": "code",
   "execution_count": 3,
   "metadata": {},
   "outputs": [],
   "source": [
    "def expected_rewards(episode_rewards, gamma, normalize=True):\n",
    "    discounted_episode_rewards = np.zeros_like(episode_rewards)\n",
    "    cumulative = 0.0\n",
    "    for i in reversed(range(len(episode_rewards))):\n",
    "        cumulative = cumulative * gamma + episode_rewards[i]\n",
    "        discounted_episode_rewards[i] = cumulative\n",
    "    \n",
    "    if normalize:\n",
    "        mean = np.mean(discounted_episode_rewards)\n",
    "        std = np.std(discounted_episode_rewards)\n",
    "        discounted_episode_rewards = (discounted_episode_rewards - mean) / (std)\n",
    "    \n",
    "    return discounted_episode_rewards.tolist()"
   ]
  },
  {
   "cell_type": "markdown",
   "metadata": {},
   "source": [
    "# design network"
   ]
  },
  {
   "cell_type": "code",
   "execution_count": 4,
   "metadata": {},
   "outputs": [],
   "source": [
    "class PolicyGradient():\n",
    "    def __init__(self, learning_rate=0.001, state_size=4, action_size=2, hidden_state_size=16, name=\"PolicyGradient\"):\n",
    "        with tf.name_scope(name):\n",
    "            self.inputs_ = tf.placeholder(tf.float32, [None, state_size], name=\"inputs\")\n",
    "            self.actions_ = tf.placeholder(tf.int32, [None, action_size], name=\"actions\")\n",
    "            self.expected_episode_rewards_ = tf.placeholder(tf.float32, [None,], name=\"expected_episode_rewards\")\n",
    "            self.fc1 = tf.contrib.layers.fully_connected(self.inputs_, hidden_state_size, weights_initializer=tf.contrib.layers.xavier_initializer())\n",
    "            self.fc2 = tf.contrib.layers.fully_connected(self.fc1, action_size, weights_initializer=tf.contrib.layers.xavier_initializer())\n",
    "            self.fc3 = tf.contrib.layers.fully_connected(self.fc2, action_size,weights_initializer=tf.contrib.layers.xavier_initializer(), activation_fn=None)\n",
    "        with tf.name_scope(\"softmax\"):\n",
    "            self.softmax = tf.nn.softmax(self.fc3)\n",
    "        with tf.name_scope(\"loss\"):\n",
    "            self.cross_entropy = tf.nn.softmax_cross_entropy_with_logits_v2(labels = self.actions_, logits = self.fc3)\n",
    "            self.loss = tf.reduce_mean(self.cross_entropy * self.expected_episode_rewards_)\n",
    "        with tf.name_scope(\"train\"):\n",
    "            self.train = tf.train.AdamOptimizer(learning_rate).minimize(self.loss)"
   ]
  },
  {
   "cell_type": "markdown",
   "metadata": {},
   "source": [
    "# play"
   ]
  },
  {
   "cell_type": "code",
   "execution_count": 5,
   "metadata": {},
   "outputs": [],
   "source": [
    "# Load game\n",
    "env = gym.make(\"CartPole-v0\")\n",
    "# Initialize the game\n",
    "state = env.reset()"
   ]
  },
  {
   "cell_type": "code",
   "execution_count": 6,
   "metadata": {},
   "outputs": [],
   "source": [
    "tf.reset_default_graph()\n",
    "network = PolicyGradient(name='network', learning_rate=learning_rate)"
   ]
  },
  {
   "cell_type": "code",
   "execution_count": 7,
   "metadata": {},
   "outputs": [],
   "source": [
    "saver = tf.train.Saver()\n",
    "total_episode_rewards = []\n",
    "\n",
    "with tf.Session() as sess:\n",
    "    sess.run(tf.global_variables_initializer())\n",
    "    \n",
    "    for epoch in range(epochs):\n",
    "        for episode in range(num_episodes):\n",
    "            # Initialize episode states, actions, and rewards\n",
    "            episode_states, episode_actions, episode_rewards = [],[],[]\n",
    "            # Initialize the game for the episode\n",
    "            state = env.reset()\n",
    "            \n",
    "            while True:\n",
    "                feed = {network.inputs_: state.reshape((1, *state.shape))}\n",
    "                action_dist = sess.run(network.softmax, feed_dict=feed)\n",
    "                \n",
    "                action = np.random.choice(range(action_dist.shape[1]), p=action_dist.flatten())\n",
    "                next_state, reward, done, _ = env.step(action)\n",
    "                \n",
    "                # Create one hot encoding for action\n",
    "                one_hot_action_ = np.zeros(action_size)\n",
    "                one_hot_action_[action] = 1\n",
    "\n",
    "\n",
    "                # Store the states, reward, and action\n",
    "                episode_states.append(state)\n",
    "                episode_rewards.append(reward)\n",
    "                episode_actions.append(one_hot_action_)\n",
    "            \n",
    "                \n",
    "                state = next_state\n",
    "                \n",
    "                if done:\n",
    "                    # Calculate the cummulative reward\n",
    "                    expected_episode_rewards = expected_rewards(episode_rewards, discount_rate)\n",
    "                    \n",
    "                    loss_, _ = sess.run([network.loss, network.train], feed_dict={network.inputs_: np.vstack(episode_states),\n",
    "                                                                 network.actions_: np.vstack(episode_actions),\n",
    "                                                                 network.expected_episode_rewards_: expected_episode_rewards\n",
    "                                                                })\n",
    "                    \n",
    "                    total_episode_reward = sum(episode_rewards)\n",
    "                    total_episode_rewards.append(total_episode_reward)\n",
    "                    \n",
    "                    break"
   ]
  },
  {
   "cell_type": "code",
   "execution_count": 8,
   "metadata": {},
   "outputs": [
    {
     "data": {
      "text/plain": [
       "[<matplotlib.lines.Line2D at 0x12d228860>]"
      ]
     },
     "execution_count": 8,
     "metadata": {},
     "output_type": "execute_result"
    },
    {
     "data": {
      "image/png": "[encoded data removed]",
      "text/plain": [
       "<matplotlib.figure.Figure at 0x12ce50f28>"
      ]
     },
     "metadata": {},
     "output_type": "display_data"
    }
   ],
   "source": [
    "plt.plot(total_episode_rewards)"
   ]
  },
  {
   "cell_type": "code",
   "execution_count": null,
   "metadata": {},
   "outputs": [
    {
     "name": "stdout",
     "output_type": "stream",
     "text": [
      "Epoch: 0\tAvg Reward: 22.068\n",
      "Epoch: 1\tAvg Reward: 22.088\n",
      "Epoch: 2\tAvg Reward: 22.137\n",
      "Epoch: 3\tAvg Reward: 22.758\n",
      "Epoch: 4\tAvg Reward: 22.593\n",
      "Epoch: 5\tAvg Reward: 21.449\n",
      "Epoch: 6\tAvg Reward: 22.039\n",
      "Epoch: 7\tAvg Reward: 22.593\n",
      "Epoch: 8\tAvg Reward: 24.104\n",
      "Epoch: 9\tAvg Reward: 24.276\n",
      "Epoch: 10\tAvg Reward: 25.428\n",
      "Epoch: 11\tAvg Reward: 25.799\n",
      "Epoch: 12\tAvg Reward: 26.359\n",
      "Epoch: 13\tAvg Reward: 28.759\n",
      "Epoch: 14\tAvg Reward: 28.941\n",
      "Epoch: 15\tAvg Reward: 30.08\n",
      "Epoch: 16\tAvg Reward: 30.84\n",
      "Epoch: 17\tAvg Reward: 30.435\n",
      "Epoch: 18\tAvg Reward: 30.751\n",
      "Epoch: 19\tAvg Reward: 32.26\n",
      "Epoch: 20\tAvg Reward: 32.508\n",
      "Epoch: 21\tAvg Reward: 33.239\n",
      "Epoch: 22\tAvg Reward: 34.307\n",
      "Epoch: 23\tAvg Reward: 34.828\n",
      "Epoch: 24\tAvg Reward: 36.259\n",
      "Epoch: 25\tAvg Reward: 36.583\n",
      "Epoch: 26\tAvg Reward: 38.553\n",
      "Epoch: 27\tAvg Reward: 38.945\n",
      "Epoch: 28\tAvg Reward: 41.602\n",
      "Epoch: 29\tAvg Reward: 44.897\n",
      "Epoch: 30\tAvg Reward: 45.242\n",
      "Epoch: 31\tAvg Reward: 47.753\n",
      "Epoch: 32\tAvg Reward: 48.931\n",
      "Epoch: 33\tAvg Reward: 54.795\n",
      "Epoch: 34\tAvg Reward: 57.718\n",
      "Epoch: 35\tAvg Reward: 61.469\n",
      "Epoch: 36\tAvg Reward: 64.043\n",
      "Epoch: 37\tAvg Reward: 68.521\n",
      "Epoch: 38\tAvg Reward: 73.431\n",
      "Epoch: 39\tAvg Reward: 77.484\n",
      "Epoch: 40\tAvg Reward: 83.927\n",
      "Epoch: 41\tAvg Reward: 91.184\n",
      "Epoch: 42\tAvg Reward: 93.398\n",
      "Epoch: 43\tAvg Reward: 97.261\n",
      "Epoch: 44\tAvg Reward: 102.615\n",
      "Epoch: 45\tAvg Reward: 107.1\n",
      "Epoch: 46\tAvg Reward: 109.213\n",
      "Epoch: 47\tAvg Reward: 119.327\n",
      "Epoch: 48\tAvg Reward: 117.053\n",
      "Epoch: 49\tAvg Reward: 122.344\n",
      "Epoch: 50\tAvg Reward: 125.245\n",
      "Epoch: 51\tAvg Reward: 131.723\n",
      "Epoch: 52\tAvg Reward: 132.229\n",
      "Epoch: 53\tAvg Reward: 134.161\n",
      "Epoch: 54\tAvg Reward: 142.147\n",
      "Epoch: 55\tAvg Reward: 141.56\n",
      "Epoch: 56\tAvg Reward: 144.419\n",
      "Epoch: 57\tAvg Reward: 149.106\n",
      "Epoch: 58\tAvg Reward: 154.27\n",
      "Epoch: 59\tAvg Reward: 155.429\n",
      "Epoch: 60\tAvg Reward: 156.387\n",
      "Epoch: 61\tAvg Reward: 157.52\n",
      "Epoch: 62\tAvg Reward: 158.494\n",
      "Epoch: 63\tAvg Reward: 157.438\n",
      "Epoch: 64\tAvg Reward: 159.936\n",
      "Epoch: 65\tAvg Reward: 156.857\n",
      "Epoch: 66\tAvg Reward: 154.247\n",
      "Epoch: 67\tAvg Reward: 153.136\n",
      "Epoch: 68\tAvg Reward: 152.414\n",
      "Epoch: 69\tAvg Reward: 150.858\n",
      "Epoch: 70\tAvg Reward: 150.527\n",
      "Epoch: 71\tAvg Reward: 150.439\n",
      "Epoch: 72\tAvg Reward: 153.797\n",
      "Epoch: 73\tAvg Reward: 154.741\n",
      "Epoch: 74\tAvg Reward: 156.917\n",
      "Epoch: 75\tAvg Reward: 161.97\n",
      "Epoch: 76\tAvg Reward: 168.862\n",
      "Epoch: 77\tAvg Reward: 170.38\n",
      "Epoch: 78\tAvg Reward: 170.243\n",
      "Epoch: 79\tAvg Reward: 173.902\n"
     ]
    }
   ],
   "source": [
    "saver = tf.train.Saver()\n",
    "avg_epoch_rewards = []\n",
    "with tf.Session() as sess:\n",
    "    sess.run(tf.global_variables_initializer())\n",
    "    \n",
    "    for epoch in range(epochs):\n",
    "        epoch_states, epoch_actions, epoch_rewards = [],[],[]\n",
    "        total_episode_rewards = []\n",
    "        for episode in range(num_episodes):\n",
    "            # Initialize episode states, actions, and rewards\n",
    "            episode_states, episode_actions, episode_rewards = [],[],[]\n",
    "            # Initialize the game for the episode\n",
    "            state = env.reset()\n",
    "            \n",
    "            while True:\n",
    "                feed = {network.inputs_: state.reshape((1, *state.shape))}\n",
    "                action_dist = sess.run(network.softmax, feed_dict=feed)\n",
    "                \n",
    "                action = np.random.choice(range(action_dist.shape[1]), p=action_dist.flatten())\n",
    "                next_state, reward, done, _ = env.step(action)\n",
    "                \n",
    "                # Create one hot encoding for action\n",
    "                one_hot_action_ = np.zeros(action_size)\n",
    "                one_hot_action_[action] = 1\n",
    "\n",
    "\n",
    "                # Store the states, reward, and action\n",
    "                episode_states.append(state)\n",
    "                episode_rewards.append(reward)\n",
    "                episode_actions.append(one_hot_action_)\n",
    "            \n",
    "                \n",
    "                state = next_state\n",
    "                \n",
    "                if done:\n",
    "                    # Calculate the cummulative reward\n",
    "                    expected_episode_rewards = expected_rewards(episode_rewards, discount_rate)\n",
    "                    \n",
    "                    total_episode_reward = sum(episode_rewards)\n",
    "                    total_episode_rewards.append(total_episode_reward)\n",
    "                    \n",
    "                    # Epoch updates\n",
    "                    epoch_states.append(np.vstack(episode_states))\n",
    "                    epoch_actions.append(np.vstack(episode_actions))\n",
    "                    epoch_rewards += expected_episode_rewards\n",
    "                    \n",
    "                    \n",
    "                    break\n",
    "                    \n",
    "        loss_, _ = sess.run([network.loss, network.train], feed_dict={network.inputs_: np.vstack(epoch_states),\n",
    "                                                                 network.actions_: np.vstack(epoch_actions),\n",
    "                                                                 network.expected_episode_rewards_: epoch_rewards\n",
    "                                                                })\n",
    "        avg_epoch_reward = np.mean(total_episode_rewards)\n",
    "        avg_epoch_rewards.append(avg_epoch_reward)\n",
    "        print(\"Epoch: {0}\\tAvg Reward: {1}\".format(epoch, avg_epoch_reward))"
   ]
  },
  {
   "cell_type": "code",
   "execution_count": 19,
   "metadata": {},
   "outputs": [
    {
     "data": {
      "text/plain": [
       "[<matplotlib.lines.Line2D at 0x12fc4a2b0>]"
      ]
     },
     "execution_count": 19,
     "metadata": {},
     "output_type": "execute_result"
    },
    {
     "data": {
      "image/png": "[encoded data removed]",
      "text/plain": [
       "<matplotlib.figure.Figure at 0x11742e320>"
      ]
     },
     "metadata": {},
     "output_type": "display_data"
    }
   ],
   "source": [
    "plt.plot(avg_epoch_rewards)"
   ]
  },
  {
   "cell_type": "code",
   "execution_count": null,
   "metadata": {},
   "outputs": [],
   "source": []
  }
 ],
 "metadata": {
  "kernelspec": {
   "display_name": "Python [default]",
   "language": "python",
   "name": "python3"
  },
  "language_info": {
   "codemirror_mode": {
    "name": "ipython",
    "version": 3
   },
   "file_extension": ".py",
   "mimetype": "text/x-python",
   "name": "python",
   "nbconvert_exporter": "python",
   "pygments_lexer": "ipython3",
   "version": "3.6.3"
  }
 },
 "nbformat": 4,
 "nbformat_minor": 2
}
